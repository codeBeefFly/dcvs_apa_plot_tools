{
 "cells": [
  {
   "cell_type": "markdown",
   "id": "28484841",
   "metadata": {},
   "source": [
    "# Plot parkingMiddleGoalsDemo"
   ]
  },
  {
   "cell_type": "code",
   "execution_count": 31,
   "id": "a7869068",
   "metadata": {},
   "outputs": [
    {
     "name": "stdout",
     "output_type": "stream",
     "text": [
      "path_car_file:  D:\\Z_zDCVS_space\\temp_tkt_parkingMiddleGoalsDemo/parkingMiddleGoalsDemo.txt\n"
     ]
    }
   ],
   "source": [
    "import matplotlib\n",
    "import matplotlib.pyplot as plt\n",
    "import numpy as np\n",
    "import math\n",
    "\n",
    "\n",
    "car_path = r\"D:\\Z_zDCVS_space\\temp_tkt_parkingMiddleGoalsDemo/\"\n",
    "\n",
    "log_car_file = car_path+\"parkingMiddleGoalsDemo.log\"\n",
    "\n",
    "# paths to computed_path.txt\n",
    "path_car_file = car_path+\"parkingMiddleGoalsDemo.txt\"\n",
    "\n",
    "print(\"path_car_file: \", path_car_file)"
   ]
  },
  {
   "cell_type": "code",
   "execution_count": 32,
   "id": "b18089c4",
   "metadata": {},
   "outputs": [
    {
     "name": "stdout",
     "output_type": "stream",
     "text": [
      "ParkingMiddleGoals: received goal from sharedstate ok\n"
     ]
    }
   ],
   "source": [
    "true_goal_x = []\n",
    "true_goal_y = []\n",
    "true_goal_theta = []\n",
    "\n",
    "correct_goal_x = []\n",
    "correct_goal_y = []\n",
    "correct_goal_theta = []\n",
    "\n",
    "# load log file\n",
    "# Parse Car log file\n",
    "with (open(log_car_file,\"r\")) as f:\n",
    "    begin_t = 0.0\n",
    "    time_set = False\n",
    "    current_t = 0\n",
    "    control_begin = False\n",
    "    get_cache = False\n",
    "    frame_start = 0\n",
    "    frame_start_apa = 0\n",
    "    frame_end = 0\n",
    "    odom_start = 0\n",
    "    \n",
    "    current_log_time = 0\n",
    "    current_log_time1 = 0\n",
    "    \n",
    "    line_num = 0\n",
    "    \n",
    "    start_goal = False\n",
    "    goal_reached = False\n",
    "    \n",
    "    \n",
    "    for line in f:\n",
    "\n",
    "        line_num += 1\n",
    "        \n",
    "        if \"[tsl]\" in line:\n",
    "            line = line.replace(\"[tsl]\", \"\")\n",
    "        \n",
    "        \n",
    "        '''if (\"[info]\" in line and len(line.split()[1].split(':')) > 2):\n",
    "            raw_sec = line.split()[1].split(':')[2]\n",
    "            raw_min = line.split()[1].split(':')[1]\n",
    "            current_log_time = float(raw_sec.replace(']','')) + 60*float(raw_min)\n",
    "            raw_times = line.split(']')[0].split(':')\n",
    "            ms = float(raw_times[3])\n",
    "            s = float(raw_times[2])\n",
    "            m = float(raw_times[1])\n",
    "            #current_log_time = 0.001*ms + s + 60*m'''\n",
    "        \n",
    "        # get true goal from shared state - 15\n",
    "        if (\"ParkingMiddleGoals: received goal from sharedstate\" in line):\n",
    "            print (\"ParkingMiddleGoals: received goal from sharedstate ok\")\n",
    "#             print(line.split())\n",
    "            raw_true_x = line.split()[8]\n",
    "            raw_true_y = line.split()[9]\n",
    "            raw_true_theta = line.split()[10]\n",
    "            true_goal_x.append(float(raw_true_x))\n",
    "            true_goal_y.append(float(raw_true_y))\n",
    "            true_goal_theta.append(float(raw_true_theta))\n",
    "            \n",
    "        elif (\"ParkingMiddleGoalsDemo: corrected final goal\" in line):\n",
    "            print(\"ParkingMiddleGoalsDemo: corrected final goal ok\")\n",
    "            print(line.split())\n",
    "            raw_correct_x = line.split()[10]\n",
    "            raw_correct_y = line.split()[11]            \n",
    "            raw_correct_theta = line.split()[12]\n",
    "            correct_goal_x.append(float(raw_correct_x))\n",
    "            correct_goal_y.append(float(raw_correct_y))\n",
    "            correct_goal_theta.append(float(raw_correct_theta))\n",
    "            "
   ]
  },
  {
   "cell_type": "code",
   "execution_count": 33,
   "id": "693f21cf",
   "metadata": {},
   "outputs": [],
   "source": [
    "# load computed path files\n",
    "path_carx = []\n",
    "path_cary = []\n",
    "with (open(path_car_file,\"r\")) as f:\n",
    "    for line in f:\n",
    "        if (\"x y\" not in line):\n",
    "            path_carx.append(float(line.split()[0]))\n",
    "            path_cary.append(float(line.split()[1]))"
   ]
  },
  {
   "cell_type": "code",
   "execution_count": 34,
   "id": "adf2bb6b",
   "metadata": {},
   "outputs": [
    {
     "name": "stdout",
     "output_type": "stream",
     "text": [
      "7. true_goal:\t [1.63998] [5.45334] [-1.5971]\n",
      "8. correct_goal:\t [] [] []\n"
     ]
    },
    {
     "data": {
      "image/png": "[encoded data removed]",
      "text/plain": [
       "<Figure size 576x720 with 1 Axes>"
      ]
     },
     "metadata": {
      "needs_background": "light"
     },
     "output_type": "display_data"
    }
   ],
   "source": [
    "plt.figure(figsize=(8,10))\n",
    "\n",
    "# 1. plot computed path\n",
    "plt.plot(path_carx, path_cary, label=\"car_path1\", linewidth=4, alpha=0.5)\n",
    "\n",
    "\n",
    "# 7. plot true goal\n",
    "plt.scatter(true_goal_x, true_goal_y, label=\"true_goal\", marker='+', color='r', s=300)\n",
    "print(\"7. true_goal:\\t\", true_goal_x, true_goal_y, true_goal_theta)\n",
    "\n",
    "# 8. plot corrected goal\n",
    "plt.scatter(correct_goal_x, correct_goal_y, label=\"correct_goal\", marker='*', color='k', s=150)\n",
    "print(\"8. correct_goal:\\t\", correct_goal_x, correct_goal_y, correct_goal_theta)\n",
    "\n",
    "plt.legend(loc=\"best\")\n",
    "\n",
    "plt.title(\"Odom vs. Path\")\n",
    "\n",
    "plt.show()"
   ]
  },
  {
   "cell_type": "code",
   "execution_count": null,
   "id": "e14acbfc",
   "metadata": {},
   "outputs": [],
   "source": []
  },
  {
   "cell_type": "code",
   "execution_count": null,
   "id": "2415924a",
   "metadata": {},
   "outputs": [],
   "source": []
  }
 ],
 "metadata": {
  "kernelspec": {
   "display_name": "Python 3",
   "language": "python",
   "name": "python3"
  },
  "language_info": {
   "codemirror_mode": {
    "name": "ipython",
    "version": 3
   },
   "file_extension": ".py",
   "mimetype": "text/x-python",
   "name": "python",
   "nbconvert_exporter": "python",
   "pygments_lexer": "ipython3",
   "version": "3.8.8"
  }
 },
 "nbformat": 4,
 "nbformat_minor": 5
}
